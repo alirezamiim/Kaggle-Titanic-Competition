{
 "cells": [
  {
   "attachments": {},
   "cell_type": "markdown",
   "metadata": {},
   "source": [
    "### This project is about \"what sorts of people were more likely to survive?\""
   ]
  },
  {
   "attachments": {},
   "cell_type": "markdown",
   "metadata": {},
   "source": [
    "#### Importing Modules "
   ]
  },
  {
   "cell_type": "code",
   "execution_count": 194,
   "metadata": {},
   "outputs": [],
   "source": [
    "import pandas as pd\n",
    "import numpy as np\n",
    "import matplotlib.pyplot as plt\n",
    "%matplotlib inline\n",
    "# from sklearn.\n",
    "\n"
   ]
  },
  {
   "attachments": {},
   "cell_type": "markdown",
   "metadata": {},
   "source": [
    "#### Reading csv Files"
   ]
  },
  {
   "cell_type": "code",
   "execution_count": 195,
   "metadata": {},
   "outputs": [],
   "source": [
    "# train_data = pd.read_csv('data/train.csv')\n",
    "# test_data = pd.read_csv('data/test.csv')"
   ]
  },
  {
   "attachments": {},
   "cell_type": "markdown",
   "metadata": {},
   "source": [
    "#### Modifying Datas"
   ]
  },
  {
   "cell_type": "code",
   "execution_count": 215,
   "metadata": {},
   "outputs": [],
   "source": [
    "train_data = pd.read_csv('data/train.csv')\n",
    "\n",
    "train_data = train_data.drop(['Cabin','Name','Ticket','PassengerId','Embarked'],axis=1)\n",
    "\n",
    "train_data.loc[train_data['Sex']=='male','Sex']=1\n",
    "train_data.loc[train_data['Sex']=='female','Sex']=0\n",
    "\n",
    "\n",
    "\n",
    "\n",
    "\n",
    "train_data = train_data[train_data['Age'].notna()]\n",
    "train_data.loc[(train_data['Age']>0)  & (train_data['Age']<=15),'Age']=0\n",
    "train_data.loc[(train_data['Age']>15) & (train_data['Age']<=30),'Age']=1\n",
    "train_data.loc[(train_data['Age']>30) & (train_data['Age']<=45),'Age']=2\n",
    "train_data.loc[(train_data['Age']>45) & (train_data['Age']<=60),'Age']=3\n",
    "train_data.loc[(train_data['Age']>60) & (train_data['Age']<=100),'Age']=4\n",
    "\n",
    "\n",
    "\n",
    "\n",
    "\n",
    "train_data['Fare'].fillna(value=0,inplace=True)\n",
    "train_data['Fare'] = np.log(train_data['Fare']+1)\n",
    "train_data['Fare'] = train_data['Fare']/train_data['Fare'].max()*5\n",
    "train_data.loc[(train_data['Fare']<=1),'Fare']=0\n",
    "train_data.loc[(train_data['Fare']>1) & (train_data['Fare']<=2),'Fare']=1\n",
    "train_data.loc[(train_data['Fare']>2) & (train_data['Fare']<=3),'Fare']=2\n",
    "train_data.loc[(train_data['Fare']>3) & (train_data['Fare']<=4),'Fare']=3\n",
    "train_data.loc[(train_data['Fare']>4) & (train_data['Fare']<=5),'Fare']=4\n",
    "\n",
    "train_data['Parch'].fillna(value=0,inplace=True)\n",
    "\n",
    "\n"
   ]
  },
  {
   "attachments": {},
   "cell_type": "markdown",
   "metadata": {},
   "source": [
    "#### Naive Bayes"
   ]
  },
  {
   "cell_type": "code",
   "execution_count": 220,
   "metadata": {},
   "outputs": [],
   "source": [
    "survived_female = train_data.loc[(train_data['Sex']==0)&(train_data['Survived']==1)]\n",
    "survived_female = survived_female['Survived'].count()\n",
    "\n",
    "not_survived_female = train_data.loc[(train_data['Sex']==0)&(train_data['Survived']==0)]\n",
    "not_survived_female = not_survived_female['Survived'].count()\n",
    "\n",
    "survived_age_0 = train_data.loc[(train_data['Age']==0) & (train_data['Survived']==1)]\n",
    "survived_age_0 = survived_age_0['Survived'].count()\n",
    "survived_age_1 = train_data.loc[(train_data['Age']==1) & (train_data['Survived']==1)]\n",
    "survived_age_1 = survived_age_1['Survived'].count()\n",
    "survived_age_2 = train_data.loc[(train_data['Age']==2) & (train_data['Survived']==1)]\n",
    "survived_age_2 = survived_age_2['Survived'].count()\n",
    "survived_age_3 = train_data.loc[(train_data['Age']==3) & (train_data['Survived']==1)]\n",
    "survived_age_3 = survived_age_3['Survived'].count()\n",
    "survived_age_4 = train_data.loc[(train_data['Age']==4) & (train_data['Survived']==1)]\n",
    "survived_age_4 = survived_age_4['Survived'].count()\n",
    "\n",
    "not_survived_age_0 = train_data.loc[(train_data['Age']==0) & (train_data['Survived']==0)]\n",
    "not_survived_age_0 = not_survived_age_0['Survived'].count()\n",
    "not_survived_age_1 = train_data.loc[(train_data['Age']==1) & (train_data['Survived']==0)]\n",
    "not_survived_age_1 = not_survived_age_1['Survived'].count()\n",
    "not_survived_age_2 = train_data.loc[(train_data['Age']==2) & (train_data['Survived']==0)]\n",
    "not_survived_age_2 = not_survived_age_2['Survived'].count()\n",
    "not_survived_age_3 = train_data.loc[(train_data['Age']==3) & (train_data['Survived']==0)]\n",
    "not_survived_age_3 = not_survived_age_3['Survived'].count()\n",
    "not_survived_age_4 = train_data.loc[(train_data['Age']==4) & (train_data['Survived']==0)]\n",
    "not_survived_age_4 = not_survived_age_4['Survived'].count()\n",
    "\n",
    "survived_fare_0 = train_data.loc[(train_data['Fare']==0) & (train_data['Survived']==1)]\n",
    "survived_fare_0 = survived_fare_0['Survived'].count()\n",
    "survived_fare_1 = train_data.loc[(train_data['Fare']==1) & (train_data['Survived']==1)]\n",
    "survived_fare_1 = survived_fare_1['Survived'].count()\n",
    "survived_fare_2 = train_data.loc[(train_data['Fare']==2) & (train_data['Survived']==1)]\n",
    "survived_fare_2 = survived_fare_2['Survived'].count()\n",
    "survived_fare_3 = train_data.loc[(train_data['Fare']==3) & (train_data['Survived']==1)]\n",
    "survived_fare_3 = survived_fare_3['Survived'].count()\n",
    "survived_fare_4 = train_data.loc[(train_data['Fare']==4) & (train_data['Survived']==1)]\n",
    "survived_fare_4 = survived_fare_4['Survived'].count()\n",
    "\n",
    "not_survived_fare_0 = train_data.loc[(train_data['Fare']==0) & (train_data['Survived']==0)]\n",
    "not_survived_fare_0 = not_survived_fare_0['Survived'].count()\n",
    "not_survived_fare_1 = train_data.loc[(train_data['Fare']==1) & (train_data['Survived']==0)]\n",
    "not_survived_fare_1 = not_survived_fare_1['Survived'].count()\n",
    "not_survived_fare_2 = train_data.loc[(train_data['Fare']==2) & (train_data['Survived']==0)]\n",
    "not_survived_fare_2 = not_survived_fare_2['Survived'].count()\n",
    "not_survived_fare_3 = train_data.loc[(train_data['Fare']==3) & (train_data['Survived']==0)]\n",
    "not_survived_fare_3 = not_survived_fare_3['Survived'].count()\n",
    "not_survived_fare_4 = train_data.loc[(train_data['Fare']==4) & (train_data['Survived']==0)]\n",
    "not_survived_fare_4 = not_survived_fare_4['Survived'].count()\n",
    "\n",
    "survived_parch_0 = train_data.loc[(train_data['Parch']==0) & (train_data['Survived']==1)]\n",
    "survived_parch_0 = survived_parch_0['Survived'].count()\n",
    "survived_parch_1 = train_data.loc[(train_data['Parch']==1) & (train_data['Survived']==1)]\n",
    "survived_parch_1 = survived_parch_1['Survived'].count()\n",
    "survived_parch_2 = train_data.loc[(train_data['Parch']==2) & (train_data['Survived']==1)]\n",
    "survived_parch_2 = survived_parch_2['Survived'].count()\n",
    "survived_parch_3 = train_data.loc[(train_data['Parch']==3) & (train_data['Survived']==1)]\n",
    "survived_parch_3 = survived_parch_3['Survived'].count()\n",
    "survived_parch_4 = train_data.loc[(train_data['Parch']==4) & (train_data['Survived']==1)]\n",
    "survived_parch_4 = survived_parch_4['Survived'].count()\n",
    "\n",
    "not_survived_parch_0 = train_data.loc[(train_data['Parch']==0) & (train_data['Survived']==0)]\n",
    "not_survived_parch_0 = not_survived_parch_0['Survived'].count()\n",
    "not_survived_parch_1 = train_data.loc[(train_data['Parch']==1) & (train_data['Survived']==0)]\n",
    "not_survived_parch_1 = not_survived_parch_1['Survived'].count()\n",
    "not_survived_parch_2 = train_data.loc[(train_data['Parch']==2) & (train_data['Survived']==0)]\n",
    "not_survived_parch_2 = not_survived_parch_2['Survived'].count()\n",
    "not_survived_parch_3 = train_data.loc[(train_data['Parch']==3) & (train_data['Survived']==0)]\n",
    "not_survived_parch_3 = not_survived_parch_3['Survived'].count()\n",
    "not_survived_parch_4 = train_data.loc[(train_data['Parch']==4) & (train_data['Survived']==0)]\n",
    "not_survived_parch_4 = not_survived_parch_4['Survived'].count()\n",
    "\n",
    "\n",
    "# print(survived_female, not_survived_female)"
   ]
  },
  {
   "cell_type": "code",
   "execution_count": null,
   "metadata": {},
   "outputs": [],
   "source": []
  }
 ],
 "metadata": {
  "kernelspec": {
   "display_name": ".venv",
   "language": "python",
   "name": "python3"
  },
  "language_info": {
   "codemirror_mode": {
    "name": "ipython",
    "version": 3
   },
   "file_extension": ".py",
   "mimetype": "text/x-python",
   "name": "python",
   "nbconvert_exporter": "python",
   "pygments_lexer": "ipython3",
   "version": "3.10.9"
  },
  "orig_nbformat": 4,
  "vscode": {
   "interpreter": {
    "hash": "9ef77430b171662c432b720469206aca7d77a12d914ca712f8a425df8ba617a3"
   }
  }
 },
 "nbformat": 4,
 "nbformat_minor": 2
}
