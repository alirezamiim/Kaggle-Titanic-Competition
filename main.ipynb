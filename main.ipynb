{
 "cells": [
  {
   "attachments": {},
   "cell_type": "markdown",
   "metadata": {},
   "source": [
    "### This project is about \"what sorts of people were more likely to survive?\""
   ]
  },
  {
   "attachments": {},
   "cell_type": "markdown",
   "metadata": {},
   "source": [
    "#### Importing Modules "
   ]
  },
  {
   "cell_type": "code",
   "execution_count": 42,
   "metadata": {},
   "outputs": [],
   "source": [
    "import pandas as pd\n",
    "import numpy as np\n",
    "import matplotlib.pyplot as plt\n",
    "%matplotlib inline\n",
    "from sklearn.linear_model import LogisticRegression\n",
    "from sklearn.model_selection import train_test_split\n",
    "\n"
   ]
  },
  {
   "attachments": {},
   "cell_type": "markdown",
   "metadata": {},
   "source": [
    "#### Modifying Datas"
   ]
  },
  {
   "cell_type": "code",
   "execution_count": 43,
   "metadata": {},
   "outputs": [],
   "source": [
    "\n",
    "def Preparing_Data(data = pd.DataFrame):\n",
    "    data = data\n",
    "    # data = pd.read_csv('data/train.csv')\n",
    "\n",
    "    data = data.drop(['Cabin','Name','Ticket','Embarked'],axis=1)\n",
    "\n",
    "    data.loc[data['Sex']=='male','Sex']=1\n",
    "    data.loc[data['Sex']=='female','Sex']=0\n",
    "\n",
    "\n",
    "    data = data[data['Age'].notna()]\n",
    "    data.loc[(data['Age']>0)  & (data['Age']<=15),'Age']=0\n",
    "    data.loc[(data['Age']>15) & (data['Age']<=30),'Age']=1\n",
    "    data.loc[(data['Age']>30) & (data['Age']<=45),'Age']=2\n",
    "    data.loc[(data['Age']>45) & (data['Age']<=60),'Age']=3\n",
    "    data.loc[(data['Age']>60) & (data['Age']<=100),'Age']=4\n",
    "\n",
    "\n",
    "\n",
    "\n",
    "\n",
    "    data['Fare'].fillna(value=0,inplace=True)\n",
    "    data['Fare'] = np.log(data['Fare']+1)\n",
    "    data['Fare'] = data['Fare']/data['Fare'].max()*5\n",
    "    data.loc[(data['Fare']<=1),'Fare']=0\n",
    "    data.loc[(data['Fare']>1) & (data['Fare']<=2),'Fare']=1\n",
    "    data.loc[(data['Fare']>2) & (data['Fare']<=3),'Fare']=2\n",
    "    data.loc[(data['Fare']>3) & (data['Fare']<=4),'Fare']=3\n",
    "    data.loc[(data['Fare']>4) & (data['Fare']<=5),'Fare']=4\n",
    "\n",
    "    data['Parch'].fillna(value=0,inplace=True)\n",
    "    \n",
    "    return data\n",
    "\n",
    "\n"
   ]
  },
  {
   "attachments": {},
   "cell_type": "markdown",
   "metadata": {},
   "source": [
    "#### Naive Bayes"
   ]
  },
  {
   "cell_type": "code",
   "execution_count": 44,
   "metadata": {},
   "outputs": [],
   "source": [
    "survived_female = train_data.loc[(train_data['Sex']==0)&(train_data['Survived']==1)]\n",
    "survived_female = survived_female['Survived'].count()\n",
    "\n",
    "not_survived_female = train_data.loc[(train_data['Sex']==0)&(train_data['Survived']==0)]\n",
    "not_survived_female = not_survived_female['Survived'].count()\n",
    "\n",
    "survived_age_0 = train_data.loc[(train_data['Age']==0) & (train_data['Survived']==1)]\n",
    "survived_age_0 = survived_age_0['Survived'].count()\n",
    "survived_age_1 = train_data.loc[(train_data['Age']==1) & (train_data['Survived']==1)]\n",
    "survived_age_1 = survived_age_1['Survived'].count()\n",
    "survived_age_2 = train_data.loc[(train_data['Age']==2) & (train_data['Survived']==1)]\n",
    "survived_age_2 = survived_age_2['Survived'].count()\n",
    "survived_age_3 = train_data.loc[(train_data['Age']==3) & (train_data['Survived']==1)]\n",
    "survived_age_3 = survived_age_3['Survived'].count()\n",
    "survived_age_4 = train_data.loc[(train_data['Age']==4) & (train_data['Survived']==1)]\n",
    "survived_age_4 = survived_age_4['Survived'].count()\n",
    "\n",
    "not_survived_age_0 = train_data.loc[(train_data['Age']==0) & (train_data['Survived']==0)]\n",
    "not_survived_age_0 = not_survived_age_0['Survived'].count()\n",
    "not_survived_age_1 = train_data.loc[(train_data['Age']==1) & (train_data['Survived']==0)]\n",
    "not_survived_age_1 = not_survived_age_1['Survived'].count()\n",
    "not_survived_age_2 = train_data.loc[(train_data['Age']==2) & (train_data['Survived']==0)]\n",
    "not_survived_age_2 = not_survived_age_2['Survived'].count()\n",
    "not_survived_age_3 = train_data.loc[(train_data['Age']==3) & (train_data['Survived']==0)]\n",
    "not_survived_age_3 = not_survived_age_3['Survived'].count()\n",
    "not_survived_age_4 = train_data.loc[(train_data['Age']==4) & (train_data['Survived']==0)]\n",
    "not_survived_age_4 = not_survived_age_4['Survived'].count()\n",
    "\n",
    "survived_fare_0 = train_data.loc[(train_data['Fare']==0) & (train_data['Survived']==1)]\n",
    "survived_fare_0 = survived_fare_0['Survived'].count()\n",
    "survived_fare_1 = train_data.loc[(train_data['Fare']==1) & (train_data['Survived']==1)]\n",
    "survived_fare_1 = survived_fare_1['Survived'].count()\n",
    "survived_fare_2 = train_data.loc[(train_data['Fare']==2) & (train_data['Survived']==1)]\n",
    "survived_fare_2 = survived_fare_2['Survived'].count()\n",
    "survived_fare_3 = train_data.loc[(train_data['Fare']==3) & (train_data['Survived']==1)]\n",
    "survived_fare_3 = survived_fare_3['Survived'].count()\n",
    "survived_fare_4 = train_data.loc[(train_data['Fare']==4) & (train_data['Survived']==1)]\n",
    "survived_fare_4 = survived_fare_4['Survived'].count()\n",
    "\n",
    "not_survived_fare_0 = train_data.loc[(train_data['Fare']==0) & (train_data['Survived']==0)]\n",
    "not_survived_fare_0 = not_survived_fare_0['Survived'].count()\n",
    "not_survived_fare_1 = train_data.loc[(train_data['Fare']==1) & (train_data['Survived']==0)]\n",
    "not_survived_fare_1 = not_survived_fare_1['Survived'].count()\n",
    "not_survived_fare_2 = train_data.loc[(train_data['Fare']==2) & (train_data['Survived']==0)]\n",
    "not_survived_fare_2 = not_survived_fare_2['Survived'].count()\n",
    "not_survived_fare_3 = train_data.loc[(train_data['Fare']==3) & (train_data['Survived']==0)]\n",
    "not_survived_fare_3 = not_survived_fare_3['Survived'].count()\n",
    "not_survived_fare_4 = train_data.loc[(train_data['Fare']==4) & (train_data['Survived']==0)]\n",
    "not_survived_fare_4 = not_survived_fare_4['Survived'].count()\n",
    "\n",
    "survived_parch_0 = train_data.loc[(train_data['Parch']==0) & (train_data['Survived']==1)]\n",
    "survived_parch_0 = survived_parch_0['Survived'].count()\n",
    "survived_parch_1 = train_data.loc[(train_data['Parch']==1) & (train_data['Survived']==1)]\n",
    "survived_parch_1 = survived_parch_1['Survived'].count()\n",
    "survived_parch_2 = train_data.loc[(train_data['Parch']==2) & (train_data['Survived']==1)]\n",
    "survived_parch_2 = survived_parch_2['Survived'].count()\n",
    "survived_parch_3 = train_data.loc[(train_data['Parch']==3) & (train_data['Survived']==1)]\n",
    "survived_parch_3 = survived_parch_3['Survived'].count()\n",
    "survived_parch_4 = train_data.loc[(train_data['Parch']==4) & (train_data['Survived']==1)]\n",
    "survived_parch_4 = survived_parch_4['Survived'].count()\n",
    "\n",
    "not_survived_parch_0 = train_data.loc[(train_data['Parch']==0) & (train_data['Survived']==0)]\n",
    "not_survived_parch_0 = not_survived_parch_0['Survived'].count()\n",
    "not_survived_parch_1 = train_data.loc[(train_data['Parch']==1) & (train_data['Survived']==0)]\n",
    "not_survived_parch_1 = not_survived_parch_1['Survived'].count()\n",
    "not_survived_parch_2 = train_data.loc[(train_data['Parch']==2) & (train_data['Survived']==0)]\n",
    "not_survived_parch_2 = not_survived_parch_2['Survived'].count()\n",
    "not_survived_parch_3 = train_data.loc[(train_data['Parch']==3) & (train_data['Survived']==0)]\n",
    "not_survived_parch_3 = not_survived_parch_3['Survived'].count()\n",
    "not_survived_parch_4 = train_data.loc[(train_data['Parch']==4) & (train_data['Survived']==0)]\n",
    "not_survived_parch_4 = not_survived_parch_4['Survived'].count()\n",
    "\n",
    "\n",
    "# print(survived_female, not_survived_female)"
   ]
  },
  {
   "attachments": {},
   "cell_type": "markdown",
   "metadata": {},
   "source": [
    "#### LogisticRegression with sklearn"
   ]
  },
  {
   "cell_type": "code",
   "execution_count": 51,
   "metadata": {},
   "outputs": [
    {
     "name": "stdout",
     "output_type": "stream",
     "text": [
      "     PassengerId  Survived  Pclass Sex  Age  SibSp  Parch  Fare\n",
      "0              1         0       3   1  1.0      1      0   1.0\n",
      "1              2         1       1   0  2.0      1      0   3.0\n",
      "2              3         1       3   0  1.0      0      0   1.0\n",
      "3              4         1       1   0  2.0      1      0   3.0\n",
      "4              5         0       3   1  2.0      0      0   1.0\n",
      "..           ...       ...     ...  ..  ...    ...    ...   ...\n",
      "885          886         0       3   0  2.0      0      5   2.0\n",
      "886          887         0       2   1  1.0      0      0   2.0\n",
      "887          888         1       1   0  1.0      0      0   2.0\n",
      "889          890         1       1   1  1.0      0      0   2.0\n",
      "890          891         0       3   1  2.0      0      0   1.0\n",
      "\n",
      "[714 rows x 8 columns]\n"
     ]
    },
    {
     "data": {
      "text/html": [
       "<div>\n",
       "<style scoped>\n",
       "    .dataframe tbody tr th:only-of-type {\n",
       "        vertical-align: middle;\n",
       "    }\n",
       "\n",
       "    .dataframe tbody tr th {\n",
       "        vertical-align: top;\n",
       "    }\n",
       "\n",
       "    .dataframe thead th {\n",
       "        text-align: right;\n",
       "    }\n",
       "</style>\n",
       "<table border=\"1\" class=\"dataframe\">\n",
       "  <thead>\n",
       "    <tr style=\"text-align: right;\">\n",
       "      <th></th>\n",
       "      <th>Pclass</th>\n",
       "      <th>Sex</th>\n",
       "      <th>Age</th>\n",
       "      <th>SibSp</th>\n",
       "      <th>Parch</th>\n",
       "      <th>Fare</th>\n",
       "    </tr>\n",
       "  </thead>\n",
       "  <tbody>\n",
       "    <tr>\n",
       "      <th>393</th>\n",
       "      <td>1</td>\n",
       "      <td>0</td>\n",
       "      <td>1.0</td>\n",
       "      <td>1</td>\n",
       "      <td>0</td>\n",
       "      <td>3.0</td>\n",
       "    </tr>\n",
       "    <tr>\n",
       "      <th>551</th>\n",
       "      <td>2</td>\n",
       "      <td>1</td>\n",
       "      <td>1.0</td>\n",
       "      <td>0</td>\n",
       "      <td>0</td>\n",
       "      <td>2.0</td>\n",
       "    </tr>\n",
       "    <tr>\n",
       "      <th>720</th>\n",
       "      <td>2</td>\n",
       "      <td>0</td>\n",
       "      <td>0.0</td>\n",
       "      <td>0</td>\n",
       "      <td>1</td>\n",
       "      <td>2.0</td>\n",
       "    </tr>\n",
       "    <tr>\n",
       "      <th>6</th>\n",
       "      <td>1</td>\n",
       "      <td>1</td>\n",
       "      <td>3.0</td>\n",
       "      <td>0</td>\n",
       "      <td>0</td>\n",
       "      <td>3.0</td>\n",
       "    </tr>\n",
       "    <tr>\n",
       "      <th>535</th>\n",
       "      <td>2</td>\n",
       "      <td>0</td>\n",
       "      <td>0.0</td>\n",
       "      <td>0</td>\n",
       "      <td>2</td>\n",
       "      <td>2.0</td>\n",
       "    </tr>\n",
       "    <tr>\n",
       "      <th>...</th>\n",
       "      <td>...</td>\n",
       "      <td>...</td>\n",
       "      <td>...</td>\n",
       "      <td>...</td>\n",
       "      <td>...</td>\n",
       "      <td>...</td>\n",
       "    </tr>\n",
       "    <tr>\n",
       "      <th>476</th>\n",
       "      <td>2</td>\n",
       "      <td>1</td>\n",
       "      <td>2.0</td>\n",
       "      <td>1</td>\n",
       "      <td>0</td>\n",
       "      <td>2.0</td>\n",
       "    </tr>\n",
       "    <tr>\n",
       "      <th>469</th>\n",
       "      <td>3</td>\n",
       "      <td>0</td>\n",
       "      <td>0.0</td>\n",
       "      <td>2</td>\n",
       "      <td>1</td>\n",
       "      <td>2.0</td>\n",
       "    </tr>\n",
       "    <tr>\n",
       "      <th>571</th>\n",
       "      <td>1</td>\n",
       "      <td>0</td>\n",
       "      <td>3.0</td>\n",
       "      <td>2</td>\n",
       "      <td>0</td>\n",
       "      <td>3.0</td>\n",
       "    </tr>\n",
       "    <tr>\n",
       "      <th>33</th>\n",
       "      <td>2</td>\n",
       "      <td>1</td>\n",
       "      <td>4.0</td>\n",
       "      <td>0</td>\n",
       "      <td>0</td>\n",
       "      <td>1.0</td>\n",
       "    </tr>\n",
       "    <tr>\n",
       "      <th>721</th>\n",
       "      <td>3</td>\n",
       "      <td>1</td>\n",
       "      <td>1.0</td>\n",
       "      <td>1</td>\n",
       "      <td>0</td>\n",
       "      <td>1.0</td>\n",
       "    </tr>\n",
       "  </tbody>\n",
       "</table>\n",
       "<p>179 rows × 6 columns</p>\n",
       "</div>"
      ],
      "text/plain": [
       "     Pclass Sex  Age  SibSp  Parch  Fare\n",
       "393       1   0  1.0      1      0   3.0\n",
       "551       2   1  1.0      0      0   2.0\n",
       "720       2   0  0.0      0      1   2.0\n",
       "6         1   1  3.0      0      0   3.0\n",
       "535       2   0  0.0      0      2   2.0\n",
       "..      ...  ..  ...    ...    ...   ...\n",
       "476       2   1  2.0      1      0   2.0\n",
       "469       3   0  0.0      2      1   2.0\n",
       "571       1   0  3.0      2      0   3.0\n",
       "33        2   1  4.0      0      0   1.0\n",
       "721       3   1  1.0      1      0   1.0\n",
       "\n",
       "[179 rows x 6 columns]"
      ]
     },
     "execution_count": 51,
     "metadata": {},
     "output_type": "execute_result"
    }
   ],
   "source": [
    "train_data = Preparing_Data(data=pd.read_csv('data/train.csv'))\n",
    "print(train_data)\n",
    "x_train,x_test,y_train,y_test = train_test_split(train_data.drop(['Survived','PassengerId'],axis=1),train_data['Survived'])\n"
   ]
  },
  {
   "cell_type": "code",
   "execution_count": 46,
   "metadata": {},
   "outputs": [
    {
     "data": {
      "text/plain": [
       "pandas.core.frame.DataFrame"
      ]
     },
     "execution_count": 46,
     "metadata": {},
     "output_type": "execute_result"
    }
   ],
   "source": [
    "type(x_train)"
   ]
  },
  {
   "cell_type": "code",
   "execution_count": 47,
   "metadata": {},
   "outputs": [],
   "source": [
    "log_reg = LogisticRegression(solver='lbfgs')"
   ]
  },
  {
   "cell_type": "code",
   "execution_count": 48,
   "metadata": {},
   "outputs": [
    {
     "data": {
      "text/html": [
       "<style>#sk-container-id-4 {color: black;background-color: white;}#sk-container-id-4 pre{padding: 0;}#sk-container-id-4 div.sk-toggleable {background-color: white;}#sk-container-id-4 label.sk-toggleable__label {cursor: pointer;display: block;width: 100%;margin-bottom: 0;padding: 0.3em;box-sizing: border-box;text-align: center;}#sk-container-id-4 label.sk-toggleable__label-arrow:before {content: \"▸\";float: left;margin-right: 0.25em;color: #696969;}#sk-container-id-4 label.sk-toggleable__label-arrow:hover:before {color: black;}#sk-container-id-4 div.sk-estimator:hover label.sk-toggleable__label-arrow:before {color: black;}#sk-container-id-4 div.sk-toggleable__content {max-height: 0;max-width: 0;overflow: hidden;text-align: left;background-color: #f0f8ff;}#sk-container-id-4 div.sk-toggleable__content pre {margin: 0.2em;color: black;border-radius: 0.25em;background-color: #f0f8ff;}#sk-container-id-4 input.sk-toggleable__control:checked~div.sk-toggleable__content {max-height: 200px;max-width: 100%;overflow: auto;}#sk-container-id-4 input.sk-toggleable__control:checked~label.sk-toggleable__label-arrow:before {content: \"▾\";}#sk-container-id-4 div.sk-estimator input.sk-toggleable__control:checked~label.sk-toggleable__label {background-color: #d4ebff;}#sk-container-id-4 div.sk-label input.sk-toggleable__control:checked~label.sk-toggleable__label {background-color: #d4ebff;}#sk-container-id-4 input.sk-hidden--visually {border: 0;clip: rect(1px 1px 1px 1px);clip: rect(1px, 1px, 1px, 1px);height: 1px;margin: -1px;overflow: hidden;padding: 0;position: absolute;width: 1px;}#sk-container-id-4 div.sk-estimator {font-family: monospace;background-color: #f0f8ff;border: 1px dotted black;border-radius: 0.25em;box-sizing: border-box;margin-bottom: 0.5em;}#sk-container-id-4 div.sk-estimator:hover {background-color: #d4ebff;}#sk-container-id-4 div.sk-parallel-item::after {content: \"\";width: 100%;border-bottom: 1px solid gray;flex-grow: 1;}#sk-container-id-4 div.sk-label:hover label.sk-toggleable__label {background-color: #d4ebff;}#sk-container-id-4 div.sk-serial::before {content: \"\";position: absolute;border-left: 1px solid gray;box-sizing: border-box;top: 0;bottom: 0;left: 50%;z-index: 0;}#sk-container-id-4 div.sk-serial {display: flex;flex-direction: column;align-items: center;background-color: white;padding-right: 0.2em;padding-left: 0.2em;position: relative;}#sk-container-id-4 div.sk-item {position: relative;z-index: 1;}#sk-container-id-4 div.sk-parallel {display: flex;align-items: stretch;justify-content: center;background-color: white;position: relative;}#sk-container-id-4 div.sk-item::before, #sk-container-id-4 div.sk-parallel-item::before {content: \"\";position: absolute;border-left: 1px solid gray;box-sizing: border-box;top: 0;bottom: 0;left: 50%;z-index: -1;}#sk-container-id-4 div.sk-parallel-item {display: flex;flex-direction: column;z-index: 1;position: relative;background-color: white;}#sk-container-id-4 div.sk-parallel-item:first-child::after {align-self: flex-end;width: 50%;}#sk-container-id-4 div.sk-parallel-item:last-child::after {align-self: flex-start;width: 50%;}#sk-container-id-4 div.sk-parallel-item:only-child::after {width: 0;}#sk-container-id-4 div.sk-dashed-wrapped {border: 1px dashed gray;margin: 0 0.4em 0.5em 0.4em;box-sizing: border-box;padding-bottom: 0.4em;background-color: white;}#sk-container-id-4 div.sk-label label {font-family: monospace;font-weight: bold;display: inline-block;line-height: 1.2em;}#sk-container-id-4 div.sk-label-container {text-align: center;}#sk-container-id-4 div.sk-container {/* jupyter's `normalize.less` sets `[hidden] { display: none; }` but bootstrap.min.css set `[hidden] { display: none !important; }` so we also need the `!important` here to be able to override the default hidden behavior on the sphinx rendered scikit-learn.org. See: https://github.com/scikit-learn/scikit-learn/issues/21755 */display: inline-block !important;position: relative;}#sk-container-id-4 div.sk-text-repr-fallback {display: none;}</style><div id=\"sk-container-id-4\" class=\"sk-top-container\"><div class=\"sk-text-repr-fallback\"><pre>LogisticRegression()</pre><b>In a Jupyter environment, please rerun this cell to show the HTML representation or trust the notebook. <br />On GitHub, the HTML representation is unable to render, please try loading this page with nbviewer.org.</b></div><div class=\"sk-container\" hidden><div class=\"sk-item\"><div class=\"sk-estimator sk-toggleable\"><input class=\"sk-toggleable__control sk-hidden--visually\" id=\"sk-estimator-id-4\" type=\"checkbox\" checked><label for=\"sk-estimator-id-4\" class=\"sk-toggleable__label sk-toggleable__label-arrow\">LogisticRegression</label><div class=\"sk-toggleable__content\"><pre>LogisticRegression()</pre></div></div></div></div></div>"
      ],
      "text/plain": [
       "LogisticRegression()"
      ]
     },
     "execution_count": 48,
     "metadata": {},
     "output_type": "execute_result"
    }
   ],
   "source": [
    "log_reg.fit(x_train,y_train)"
   ]
  },
  {
   "cell_type": "code",
   "execution_count": 49,
   "metadata": {},
   "outputs": [
    {
     "data": {
      "text/plain": [
       "0.8324022346368715"
      ]
     },
     "execution_count": 49,
     "metadata": {},
     "output_type": "execute_result"
    }
   ],
   "source": [
    "# log_reg.predict(np.array([[]]))\n",
    "log_reg.score(x_test,y_test)"
   ]
  },
  {
   "cell_type": "code",
   "execution_count": 65,
   "metadata": {},
   "outputs": [],
   "source": [
    "test_data = Preparing_Data(data=pd.read_csv('data/test.csv'))\n",
    "\n",
    "passenger_id = test_data['PassengerId']\n",
    "test_data = test_data.drop(['PassengerId'],axis=1)\n",
    "\n",
    "survived = log_reg.predict(test_data)\n",
    "test_data['PassengerId'] = passenger_id\n",
    "\n",
    "test_data['Survived'] = survived\n",
    "\n",
    "test_data = test_data.drop(['Pclass','Sex','Age','SibSp','Parch','Fare'],axis=1)\n",
    "test_data.to_csv('data/prediction.csv')\n",
    "# test_data"
   ]
  },
  {
   "cell_type": "code",
   "execution_count": null,
   "metadata": {},
   "outputs": [],
   "source": []
  }
 ],
 "metadata": {
  "kernelspec": {
   "display_name": ".venv",
   "language": "python",
   "name": "python3"
  },
  "language_info": {
   "codemirror_mode": {
    "name": "ipython",
    "version": 3
   },
   "file_extension": ".py",
   "mimetype": "text/x-python",
   "name": "python",
   "nbconvert_exporter": "python",
   "pygments_lexer": "ipython3",
   "version": "3.10.9"
  },
  "orig_nbformat": 4,
  "vscode": {
   "interpreter": {
    "hash": "9ef77430b171662c432b720469206aca7d77a12d914ca712f8a425df8ba617a3"
   }
  }
 },
 "nbformat": 4,
 "nbformat_minor": 2
}
